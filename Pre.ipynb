{
 "cells": [
  {
   "cell_type": "markdown",
   "source": [
    "# 预处理部分代码"
   ],
   "metadata": {
    "collapsed": false,
    "pycharm": {
     "name": "#%% md\n"
    }
   }
  },
  {
   "cell_type": "markdown",
   "source": [
    "#### 导入包"
   ],
   "metadata": {
    "collapsed": false
   }
  },
  {
   "cell_type": "code",
   "execution_count": 3,
   "outputs": [],
   "source": [
    "import pandas as pd\n",
    "import numpy as np\n",
    "from openpyxl import Workbook\n",
    "import os"
   ],
   "metadata": {
    "collapsed": false,
    "pycharm": {
     "name": "#%%\n"
    }
   }
  },
  {
   "cell_type": "markdown",
   "source": [
    "#### 数据预处理函数"
   ],
   "metadata": {
    "collapsed": false
   }
  },
  {
   "cell_type": "code",
   "execution_count": 4,
   "outputs": [],
   "source": [
    "def Pre(number, lane, min_time):  # 数据预处理, min_time是预处理后数据集时间分度值，单位为min\n",
    "    df1 = pd.read_csv('.\\\\题目-数据\\\\滨创杯数据-1.交通\\\\' + 'MD-TaiXing-' + str(number) + '.csv')\n",
    "    rows = df1.shape[0]\n",
    "    np1 = np.array(df1)  # 转换为numpy数组\n",
    "\n",
    "    wb = Workbook()\n",
    "    sheet = wb.active\n",
    "    sheet.title = str(number) + '_' + str(lane)\n",
    "    row = ['deviceId', 'timestamp', 'average_car_spacing', 'average_car_length', 'occupancy', 'total_traffic',\n",
    "           'average_speed', 'small_car_traffic_', 'medium_car_traffic_', 'large_car_traffic_']\n",
    "    sheet.append(row)\n",
    "\n",
    "    time_travel = int(32 * min_time / 5)  # 在min_time最小时间分度下收集一轮数据需要遍历的行数\n",
    "\n",
    "    if min_time == 1440:\n",
    "        flag = 24\n",
    "    elif min_time == 120:\n",
    "        flag = 2\n",
    "    else:\n",
    "        flag = 1 # 对最小时间戳为1day和2h的数据进行重复采样，采样间隔为1h，实现扩充数据，便于后续进行机器学习预测\n",
    "\n",
    "    for i in range(0, rows, int(time_travel / flag)):\n",
    "        list1 = [0 for _ in range(10)]  # 初始化一个空列表，用来预处理数据\n",
    "        for j in range(i, min(i + time_travel, rows)):\n",
    "            list1[0] = np1[j][1]\n",
    "            list1[1] = np1[j][3]\n",
    "            if np1[j][2] == 'average_car_spacing_' + str(lane):\n",
    "                list1[2] += np1[j][4]  # 平均车间距\n",
    "            if np1[j][2] == 'average_car_length_' + str(lane):\n",
    "                list1[3] += np1[j][4]  # 平均车长\n",
    "            if np1[j][2] == 'occupancy_' + str(lane):\n",
    "                list1[4] += np1[j][4]  # 占有率\n",
    "            if np1[j][2] == 'total_traffic_' + str(lane):\n",
    "                list1[5] += np1[j][4]  # 总车流量\n",
    "            if np1[j][2] == 'average_speed_' + str(lane):\n",
    "                list1[6] += np1[j][4]  # 平均车速\n",
    "            if np1[j][2] == 'small_car_traffic_' + str(lane):\n",
    "                list1[7] += np1[j][4]\n",
    "            if np1[j][2] == 'medium_car_traffic_' + str(lane):\n",
    "                list1[8] += np1[j][4]\n",
    "            if np1[j][2] == ('large1_car_traffic_' + str(lane) or 'large2_car_traffic_' + str(\n",
    "                    lane) or 'large3_car_traffic_' + str(lane)):\n",
    "                list1[9] += np1[j][4]\n",
    "\n",
    "        sheet.append(list1)\n",
    "\n",
    "    dirs = '.\\\\' + str(min_time) + 'min的数据'\n",
    "    if not os.path.exists(dirs):\n",
    "        os.makedirs(dirs)  # 创建文件夹存放当前时间戳为min_time的数据文件\n",
    "\n",
    "    wb.save('.\\\\' + str(min_time) + 'min的数据' + '\\\\' + str(number) + '_' + str(lane) + '.xlsx')\n",
    "    print('成功保存时间戳为' + str(min_time) + 'min的数据' + '文件' + str(number) + '_' + str(lane) + '.xlsx')"
   ],
   "metadata": {
    "collapsed": false,
    "pycharm": {
     "name": "#%%\n"
    }
   }
  },
  {
   "cell_type": "markdown",
   "source": [
    "#### 对所有不同设备采集的数据，分别对其采集的数据进行预处理，不同车道不同时间戳分别保存，便于后续进行可视化分析和机器学习预测。"
   ],
   "metadata": {
    "collapsed": false
   }
  },
  {
   "cell_type": "code",
   "execution_count": 5,
   "outputs": [
    {
     "name": "stdout",
     "output_type": "stream",
     "text": [
      "成功保存时间戳为5min的数据文件75_1.xlsx\n",
      "成功保存时间戳为30min的数据文件75_1.xlsx\n",
      "成功保存时间戳为60min的数据文件75_1.xlsx\n",
      "成功保存时间戳为120min的数据文件75_1.xlsx\n",
      "成功保存时间戳为1440min的数据文件75_1.xlsx\n",
      "成功保存时间戳为5min的数据文件75_2.xlsx\n",
      "成功保存时间戳为30min的数据文件75_2.xlsx\n",
      "成功保存时间戳为60min的数据文件75_2.xlsx\n",
      "成功保存时间戳为120min的数据文件75_2.xlsx\n",
      "成功保存时间戳为1440min的数据文件75_2.xlsx\n",
      "成功保存时间戳为5min的数据文件76_1.xlsx\n",
      "成功保存时间戳为30min的数据文件76_1.xlsx\n",
      "成功保存时间戳为60min的数据文件76_1.xlsx\n",
      "成功保存时间戳为120min的数据文件76_1.xlsx\n",
      "成功保存时间戳为1440min的数据文件76_1.xlsx\n",
      "成功保存时间戳为5min的数据文件76_2.xlsx\n",
      "成功保存时间戳为30min的数据文件76_2.xlsx\n",
      "成功保存时间戳为60min的数据文件76_2.xlsx\n",
      "成功保存时间戳为120min的数据文件76_2.xlsx\n",
      "成功保存时间戳为1440min的数据文件76_2.xlsx\n",
      "成功保存时间戳为5min的数据文件77_1.xlsx\n",
      "成功保存时间戳为30min的数据文件77_1.xlsx\n",
      "成功保存时间戳为60min的数据文件77_1.xlsx\n",
      "成功保存时间戳为120min的数据文件77_1.xlsx\n",
      "成功保存时间戳为1440min的数据文件77_1.xlsx\n",
      "成功保存时间戳为5min的数据文件77_2.xlsx\n",
      "成功保存时间戳为30min的数据文件77_2.xlsx\n",
      "成功保存时间戳为60min的数据文件77_2.xlsx\n",
      "成功保存时间戳为120min的数据文件77_2.xlsx\n",
      "成功保存时间戳为1440min的数据文件77_2.xlsx\n",
      "成功保存时间戳为5min的数据文件78_1.xlsx\n",
      "成功保存时间戳为30min的数据文件78_1.xlsx\n",
      "成功保存时间戳为60min的数据文件78_1.xlsx\n",
      "成功保存时间戳为120min的数据文件78_1.xlsx\n",
      "成功保存时间戳为1440min的数据文件78_1.xlsx\n",
      "成功保存时间戳为5min的数据文件78_2.xlsx\n",
      "成功保存时间戳为30min的数据文件78_2.xlsx\n",
      "成功保存时间戳为60min的数据文件78_2.xlsx\n",
      "成功保存时间戳为120min的数据文件78_2.xlsx\n",
      "成功保存时间戳为1440min的数据文件78_2.xlsx\n",
      "成功保存时间戳为5min的数据文件79_1.xlsx\n",
      "成功保存时间戳为30min的数据文件79_1.xlsx\n",
      "成功保存时间戳为60min的数据文件79_1.xlsx\n",
      "成功保存时间戳为120min的数据文件79_1.xlsx\n",
      "成功保存时间戳为1440min的数据文件79_1.xlsx\n",
      "成功保存时间戳为5min的数据文件79_2.xlsx\n",
      "成功保存时间戳为30min的数据文件79_2.xlsx\n",
      "成功保存时间戳为60min的数据文件79_2.xlsx\n",
      "成功保存时间戳为120min的数据文件79_2.xlsx\n",
      "成功保存时间戳为1440min的数据文件79_2.xlsx\n",
      "成功保存时间戳为5min的数据文件80_1.xlsx\n",
      "成功保存时间戳为30min的数据文件80_1.xlsx\n",
      "成功保存时间戳为60min的数据文件80_1.xlsx\n",
      "成功保存时间戳为120min的数据文件80_1.xlsx\n",
      "成功保存时间戳为1440min的数据文件80_1.xlsx\n",
      "成功保存时间戳为5min的数据文件80_2.xlsx\n",
      "成功保存时间戳为30min的数据文件80_2.xlsx\n",
      "成功保存时间戳为60min的数据文件80_2.xlsx\n",
      "成功保存时间戳为120min的数据文件80_2.xlsx\n",
      "成功保存时间戳为1440min的数据文件80_2.xlsx\n",
      "成功保存时间戳为5min的数据文件81_1.xlsx\n",
      "成功保存时间戳为30min的数据文件81_1.xlsx\n",
      "成功保存时间戳为60min的数据文件81_1.xlsx\n",
      "成功保存时间戳为120min的数据文件81_1.xlsx\n",
      "成功保存时间戳为1440min的数据文件81_1.xlsx\n",
      "成功保存时间戳为5min的数据文件81_2.xlsx\n",
      "成功保存时间戳为30min的数据文件81_2.xlsx\n",
      "成功保存时间戳为60min的数据文件81_2.xlsx\n",
      "成功保存时间戳为120min的数据文件81_2.xlsx\n",
      "成功保存时间戳为1440min的数据文件81_2.xlsx\n",
      "成功保存时间戳为5min的数据文件82_1.xlsx\n",
      "成功保存时间戳为30min的数据文件82_1.xlsx\n",
      "成功保存时间戳为60min的数据文件82_1.xlsx\n",
      "成功保存时间戳为120min的数据文件82_1.xlsx\n",
      "成功保存时间戳为1440min的数据文件82_1.xlsx\n",
      "成功保存时间戳为5min的数据文件82_2.xlsx\n",
      "成功保存时间戳为30min的数据文件82_2.xlsx\n",
      "成功保存时间戳为60min的数据文件82_2.xlsx\n",
      "成功保存时间戳为120min的数据文件82_2.xlsx\n",
      "成功保存时间戳为1440min的数据文件82_2.xlsx\n",
      "成功保存时间戳为5min的数据文件83_1.xlsx\n",
      "成功保存时间戳为30min的数据文件83_1.xlsx\n",
      "成功保存时间戳为60min的数据文件83_1.xlsx\n",
      "成功保存时间戳为120min的数据文件83_1.xlsx\n",
      "成功保存时间戳为1440min的数据文件83_1.xlsx\n",
      "成功保存时间戳为5min的数据文件83_2.xlsx\n",
      "成功保存时间戳为30min的数据文件83_2.xlsx\n",
      "成功保存时间戳为60min的数据文件83_2.xlsx\n",
      "成功保存时间戳为120min的数据文件83_2.xlsx\n",
      "成功保存时间戳为1440min的数据文件83_2.xlsx\n",
      "成功保存时间戳为5min的数据文件84_1.xlsx\n",
      "成功保存时间戳为30min的数据文件84_1.xlsx\n",
      "成功保存时间戳为60min的数据文件84_1.xlsx\n",
      "成功保存时间戳为120min的数据文件84_1.xlsx\n",
      "成功保存时间戳为1440min的数据文件84_1.xlsx\n",
      "成功保存时间戳为5min的数据文件84_2.xlsx\n",
      "成功保存时间戳为30min的数据文件84_2.xlsx\n",
      "成功保存时间戳为60min的数据文件84_2.xlsx\n",
      "成功保存时间戳为120min的数据文件84_2.xlsx\n",
      "成功保存时间戳为1440min的数据文件84_2.xlsx\n"
     ]
    }
   ],
   "source": [
    "if __name__ == '__main__':\n",
    "    for number in range(75, 85):\n",
    "        for i in range(1, 3):\n",
    "            for time in [5, 30, 60, 120, 1440]:\n",
    "                Pre(number, i, time)"
   ],
   "metadata": {
    "collapsed": false,
    "pycharm": {
     "name": "#%%\n"
    }
   }
  },
  {
   "cell_type": "markdown",
   "source": [
    "#### 至此，所有数据文件预处理完成。(●'◡'●)"
   ],
   "metadata": {
    "collapsed": false
   }
  }
 ],
 "metadata": {
  "kernelspec": {
   "name": "pycharm-757935f9",
   "language": "python",
   "display_name": "PyCharm (python竞赛代码包)"
  },
  "language_info": {
   "codemirror_mode": {
    "name": "ipython",
    "version": 2
   },
   "file_extension": ".py",
   "mimetype": "text/x-python",
   "name": "python",
   "nbconvert_exporter": "python",
   "pygments_lexer": "ipython2",
   "version": "2.7.6"
  }
 },
 "nbformat": 4,
 "nbformat_minor": 0
}