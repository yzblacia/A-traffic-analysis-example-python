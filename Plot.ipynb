{
 "cells": [
  {
   "cell_type": "markdown",
   "metadata": {
    "collapsed": false,
    "pycharm": {
     "name": "#%% md\n"
    }
   },
   "source": [
    "# 可视化部分代码"
   ]
  },
  {
   "cell_type": "markdown",
   "metadata": {
    "collapsed": false
   },
   "source": [
    "#### 导入包"
   ]
  },
  {
   "cell_type": "code",
   "execution_count": 1,
   "metadata": {
    "collapsed": false,
    "pycharm": {
     "name": "#%%\n"
    }
   },
   "outputs": [],
   "source": [
    "import matplotlib\n",
    "matplotlib.use('Agg')\n",
    "import matplotlib.pyplot as plt\n",
    "import pandas as pd\n",
    "import os"
   ]
  },
  {
   "cell_type": "markdown",
   "metadata": {
    "collapsed": false
   },
   "source": [
    "#### 可视化处理函数\n",
    "#### 传入 x 轴变量 和 y1变量 (y2可选)\n",
    "#### 进行可视化处理 保存可视化后的图片\n"
   ]
  },
  {
   "cell_type": "code",
   "execution_count": 2,
   "metadata": {
    "collapsed": false,
    "pycharm": {
     "name": "#%%\n"
    }
   },
   "outputs": [],
   "source": [
    "def plot(number, lane, min_time, xl1, yl1, twinx, yl2=\"\"):\n",
    "    # 读取数据\n",
    "    df1 = pd.read_excel('.\\\\' + str(min_time) + 'min的数据' + '\\\\' + str(number) + '_' + str(lane) + '.xlsx')\n",
    "    rows = df1.shape[0]\n",
    "\n",
    "    xt1 = df1[xl1]\n",
    "    yt1 = df1[yl1]\n",
    "\n",
    "    matplotlib.use('Agg')\n",
    "    fig = plt.figure(figsize=(15, 6), dpi=400)\n",
    "\n",
    "    ax1 = fig.add_subplot(111)\n",
    "    yt1.plot(ax=ax1, marker=\"o\", c=\"b\", label=xl1 + \"-\" + yl1, markersize=1)\n",
    "    # 绘制坐标轴标签\n",
    "    ax1.set_xlabel(xl1)\n",
    "    ax1.set_ylabel(yl1)\n",
    "    plt.title(yl1 + \"-\" + yl2 + \"-\" + xl1)\n",
    "    # 显示图例\n",
    "    plt.legend(loc=2)\n",
    "    # 设置轴刻度\n",
    "    # 范围为(0 . max ) 刻度为 max / 10 如果 此值为 0  则 跨度为1；\n",
    "    ax1.set_yticks(range(0, int(max(yt1)) + 1, int(max(yt1) / 10) if (int(max(yt1) / 10) != 0) else 1))\n",
    "\n",
    "    # 是否采用双坐标轴图表\n",
    "    if twinx:\n",
    "        ax2 = ax1.twinx()\n",
    "        yt2 = df1[yl2]\n",
    "        yt2.plot(ax=ax2, marker=\"o\", c=\"r\", label=xl1 + \"-\" + yl2, markersize=1)\n",
    "        # 绘制坐标轴标签\n",
    "        ax2.set_ylabel(yl2)\n",
    "        plt.legend(loc=1)\n",
    "        ax2.set_yticks(range(0, int(max(yt2)) + 1, int(max(yt2) / 10) if (int(max(yt2) / 10) != 0) else 1))\n",
    "\n",
    "    # 将可视化后的图像进行保存\n",
    "    if not os.path.exists(\".\\\\\" + str(yl1) + \"-\" + str(yl2) + \"可视化\"):\n",
    "        os.makedirs(\".\\\\\" + str(yl1) + \"-\" + str(yl2) + \"可视化\")\n",
    "\n",
    "        # plt.show()\n",
    "    plt.savefig(\n",
    "        \".\\\\\" + str(yl1) + \"-\" + str(yl2) + \"可视化\" + '\\\\' + f\"{number}-{lane}-{min_time}min的数据-{yl1}-{yl2}-{xl1}.png\")\n",
    "    plt.close()\n",
    "    if twinx:\n",
    "        print(f\"{number}-{lane}-{min_time}min的数据-{yl1}-{yl2}-{xl1}.png\", \"已保存\")\n"
   ]
  },
  {
   "cell_type": "code",
   "execution_count": 3,
   "metadata": {
    "collapsed": false,
    "pycharm": {
     "name": "#%%\n"
    }
   },
   "outputs": [
    {
     "name": "stdout",
     "output_type": "stream",
     "text": [
      "75-1-120min的数据-occupancy-total_traffic-timestamp.png 已保存\n",
      "75-1-120min的数据-average_car_spacing-average_speed-timestamp.png 已保存\n",
      "75-1-120min的数据-average_car_length-average_speed-timestamp.png 已保存\n",
      "75-1-1440min的数据-occupancy-total_traffic-timestamp.png 已保存\n",
      "75-1-1440min的数据-average_car_spacing-average_speed-timestamp.png 已保存\n",
      "75-1-1440min的数据-average_car_length-average_speed-timestamp.png 已保存\n",
      "75-2-120min的数据-occupancy-total_traffic-timestamp.png 已保存\n",
      "75-2-120min的数据-average_car_spacing-average_speed-timestamp.png 已保存\n",
      "75-2-120min的数据-average_car_length-average_speed-timestamp.png 已保存\n",
      "75-2-1440min的数据-occupancy-total_traffic-timestamp.png 已保存\n",
      "75-2-1440min的数据-average_car_spacing-average_speed-timestamp.png 已保存\n",
      "75-2-1440min的数据-average_car_length-average_speed-timestamp.png 已保存\n",
      "76-1-120min的数据-occupancy-total_traffic-timestamp.png 已保存\n",
      "76-1-120min的数据-average_car_spacing-average_speed-timestamp.png 已保存\n",
      "76-1-120min的数据-average_car_length-average_speed-timestamp.png 已保存\n",
      "76-1-1440min的数据-occupancy-total_traffic-timestamp.png 已保存\n",
      "76-1-1440min的数据-average_car_spacing-average_speed-timestamp.png 已保存\n",
      "76-1-1440min的数据-average_car_length-average_speed-timestamp.png 已保存\n",
      "76-2-120min的数据-occupancy-total_traffic-timestamp.png 已保存\n",
      "76-2-120min的数据-average_car_spacing-average_speed-timestamp.png 已保存\n",
      "76-2-120min的数据-average_car_length-average_speed-timestamp.png 已保存\n",
      "76-2-1440min的数据-occupancy-total_traffic-timestamp.png 已保存\n",
      "76-2-1440min的数据-average_car_spacing-average_speed-timestamp.png 已保存\n",
      "76-2-1440min的数据-average_car_length-average_speed-timestamp.png 已保存\n",
      "77-1-120min的数据-occupancy-total_traffic-timestamp.png 已保存\n",
      "77-1-120min的数据-average_car_spacing-average_speed-timestamp.png 已保存\n",
      "77-1-120min的数据-average_car_length-average_speed-timestamp.png 已保存\n",
      "77-1-1440min的数据-occupancy-total_traffic-timestamp.png 已保存\n",
      "77-1-1440min的数据-average_car_spacing-average_speed-timestamp.png 已保存\n",
      "77-1-1440min的数据-average_car_length-average_speed-timestamp.png 已保存\n",
      "77-2-120min的数据-occupancy-total_traffic-timestamp.png 已保存\n",
      "77-2-120min的数据-average_car_spacing-average_speed-timestamp.png 已保存\n",
      "77-2-120min的数据-average_car_length-average_speed-timestamp.png 已保存\n",
      "77-2-1440min的数据-occupancy-total_traffic-timestamp.png 已保存\n",
      "77-2-1440min的数据-average_car_spacing-average_speed-timestamp.png 已保存\n",
      "77-2-1440min的数据-average_car_length-average_speed-timestamp.png 已保存\n",
      "78-1-120min的数据-occupancy-total_traffic-timestamp.png 已保存\n",
      "78-1-120min的数据-average_car_spacing-average_speed-timestamp.png 已保存\n",
      "78-1-120min的数据-average_car_length-average_speed-timestamp.png 已保存\n",
      "78-1-1440min的数据-occupancy-total_traffic-timestamp.png 已保存\n",
      "78-1-1440min的数据-average_car_spacing-average_speed-timestamp.png 已保存\n",
      "78-1-1440min的数据-average_car_length-average_speed-timestamp.png 已保存\n",
      "78-2-120min的数据-occupancy-total_traffic-timestamp.png 已保存\n",
      "78-2-120min的数据-average_car_spacing-average_speed-timestamp.png 已保存\n",
      "78-2-120min的数据-average_car_length-average_speed-timestamp.png 已保存\n",
      "78-2-1440min的数据-occupancy-total_traffic-timestamp.png 已保存\n",
      "78-2-1440min的数据-average_car_spacing-average_speed-timestamp.png 已保存\n",
      "78-2-1440min的数据-average_car_length-average_speed-timestamp.png 已保存\n",
      "79-1-120min的数据-occupancy-total_traffic-timestamp.png 已保存\n",
      "79-1-120min的数据-average_car_spacing-average_speed-timestamp.png 已保存\n",
      "79-1-120min的数据-average_car_length-average_speed-timestamp.png 已保存\n",
      "79-1-1440min的数据-occupancy-total_traffic-timestamp.png 已保存\n",
      "79-1-1440min的数据-average_car_spacing-average_speed-timestamp.png 已保存\n",
      "79-1-1440min的数据-average_car_length-average_speed-timestamp.png 已保存\n",
      "79-2-120min的数据-occupancy-total_traffic-timestamp.png 已保存\n",
      "79-2-120min的数据-average_car_spacing-average_speed-timestamp.png 已保存\n",
      "79-2-120min的数据-average_car_length-average_speed-timestamp.png 已保存\n",
      "79-2-1440min的数据-occupancy-total_traffic-timestamp.png 已保存\n",
      "79-2-1440min的数据-average_car_spacing-average_speed-timestamp.png 已保存\n",
      "79-2-1440min的数据-average_car_length-average_speed-timestamp.png 已保存\n",
      "80-1-120min的数据-occupancy-total_traffic-timestamp.png 已保存\n",
      "80-1-120min的数据-average_car_spacing-average_speed-timestamp.png 已保存\n",
      "80-1-120min的数据-average_car_length-average_speed-timestamp.png 已保存\n",
      "80-1-1440min的数据-occupancy-total_traffic-timestamp.png 已保存\n",
      "80-1-1440min的数据-average_car_spacing-average_speed-timestamp.png 已保存\n",
      "80-1-1440min的数据-average_car_length-average_speed-timestamp.png 已保存\n",
      "80-2-120min的数据-occupancy-total_traffic-timestamp.png 已保存\n",
      "80-2-120min的数据-average_car_spacing-average_speed-timestamp.png 已保存\n",
      "80-2-120min的数据-average_car_length-average_speed-timestamp.png 已保存\n",
      "80-2-1440min的数据-occupancy-total_traffic-timestamp.png 已保存\n",
      "80-2-1440min的数据-average_car_spacing-average_speed-timestamp.png 已保存\n",
      "80-2-1440min的数据-average_car_length-average_speed-timestamp.png 已保存\n",
      "81-1-120min的数据-occupancy-total_traffic-timestamp.png 已保存\n",
      "81-1-120min的数据-average_car_spacing-average_speed-timestamp.png 已保存\n",
      "81-1-120min的数据-average_car_length-average_speed-timestamp.png 已保存\n",
      "81-1-1440min的数据-occupancy-total_traffic-timestamp.png 已保存\n",
      "81-1-1440min的数据-average_car_spacing-average_speed-timestamp.png 已保存\n",
      "81-1-1440min的数据-average_car_length-average_speed-timestamp.png 已保存\n",
      "81-2-120min的数据-occupancy-total_traffic-timestamp.png 已保存\n",
      "81-2-120min的数据-average_car_spacing-average_speed-timestamp.png 已保存\n",
      "81-2-120min的数据-average_car_length-average_speed-timestamp.png 已保存\n",
      "81-2-1440min的数据-occupancy-total_traffic-timestamp.png 已保存\n",
      "81-2-1440min的数据-average_car_spacing-average_speed-timestamp.png 已保存\n",
      "81-2-1440min的数据-average_car_length-average_speed-timestamp.png 已保存\n",
      "82-1-120min的数据-occupancy-total_traffic-timestamp.png 已保存\n",
      "82-1-120min的数据-average_car_spacing-average_speed-timestamp.png 已保存\n",
      "82-1-120min的数据-average_car_length-average_speed-timestamp.png 已保存\n",
      "82-1-1440min的数据-occupancy-total_traffic-timestamp.png 已保存\n",
      "82-1-1440min的数据-average_car_spacing-average_speed-timestamp.png 已保存\n",
      "82-1-1440min的数据-average_car_length-average_speed-timestamp.png 已保存\n",
      "82-2-120min的数据-occupancy-total_traffic-timestamp.png 已保存\n",
      "82-2-120min的数据-average_car_spacing-average_speed-timestamp.png 已保存\n",
      "82-2-120min的数据-average_car_length-average_speed-timestamp.png 已保存\n",
      "82-2-1440min的数据-occupancy-total_traffic-timestamp.png 已保存\n",
      "82-2-1440min的数据-average_car_spacing-average_speed-timestamp.png 已保存\n",
      "82-2-1440min的数据-average_car_length-average_speed-timestamp.png 已保存\n",
      "83-1-120min的数据-occupancy-total_traffic-timestamp.png 已保存\n",
      "83-1-120min的数据-average_car_spacing-average_speed-timestamp.png 已保存\n",
      "83-1-120min的数据-average_car_length-average_speed-timestamp.png 已保存\n",
      "83-1-1440min的数据-occupancy-total_traffic-timestamp.png 已保存\n",
      "83-1-1440min的数据-average_car_spacing-average_speed-timestamp.png 已保存\n",
      "83-1-1440min的数据-average_car_length-average_speed-timestamp.png 已保存\n",
      "83-2-120min的数据-occupancy-total_traffic-timestamp.png 已保存\n",
      "83-2-120min的数据-average_car_spacing-average_speed-timestamp.png 已保存\n",
      "83-2-120min的数据-average_car_length-average_speed-timestamp.png 已保存\n",
      "83-2-1440min的数据-occupancy-total_traffic-timestamp.png 已保存\n",
      "83-2-1440min的数据-average_car_spacing-average_speed-timestamp.png 已保存\n",
      "83-2-1440min的数据-average_car_length-average_speed-timestamp.png 已保存\n",
      "84-1-120min的数据-occupancy-total_traffic-timestamp.png 已保存\n",
      "84-1-120min的数据-average_car_spacing-average_speed-timestamp.png 已保存\n",
      "84-1-120min的数据-average_car_length-average_speed-timestamp.png 已保存\n",
      "84-1-1440min的数据-occupancy-total_traffic-timestamp.png 已保存\n",
      "84-1-1440min的数据-average_car_spacing-average_speed-timestamp.png 已保存\n",
      "84-1-1440min的数据-average_car_length-average_speed-timestamp.png 已保存\n",
      "84-2-120min的数据-occupancy-total_traffic-timestamp.png 已保存\n",
      "84-2-120min的数据-average_car_spacing-average_speed-timestamp.png 已保存\n",
      "84-2-120min的数据-average_car_length-average_speed-timestamp.png 已保存\n",
      "84-2-1440min的数据-occupancy-total_traffic-timestamp.png 已保存\n",
      "84-2-1440min的数据-average_car_spacing-average_speed-timestamp.png 已保存\n",
      "84-2-1440min的数据-average_car_length-average_speed-timestamp.png 已保存\n"
     ]
    }
   ],
   "source": [
    "if __name__ == '__main__':\n",
    "    for number in range(75, 85):\n",
    "        for lane in range(1, 3):\n",
    "            for time in [120, 1440]:\n",
    "                for flag in [0, 1]:\n",
    "                    plot(number, lane, time, \"timestamp\", \"occupancy\", flag, \"total_traffic\")\n",
    "                    plot(number, lane, time, \"timestamp\", \"average_car_spacing\", flag, \"average_speed\")\n",
    "                    plot(number, lane, time, \"timestamp\", \"average_car_length\", flag, \"average_speed\")\n",
    "    "
   ]
  },
  {
   "cell_type": "markdown",
   "metadata": {
    "collapsed": false
   },
   "source": [
    "#### 至此，可视化完成。"
   ]
  }
 ],
 "metadata": {
  "interpreter": {
   "hash": "7b4b4feff2f24a0f0a34464dbe537a36fda679851528fb8735cb41fa49dffb2d"
  },
  "kernelspec": {
   "display_name": "PyCharm (python竞赛代码包)",
   "language": "python",
   "name": "python3"
  },
  "language_info": {
   "codemirror_mode": {
    "name": "ipython",
    "version": 3
   },
   "file_extension": ".py",
   "mimetype": "text/x-python",
   "name": "python",
   "nbconvert_exporter": "python",
   "pygments_lexer": "ipython3",
   "version": "3.9.7"
  }
 },
 "nbformat": 4,
 "nbformat_minor": 0
}